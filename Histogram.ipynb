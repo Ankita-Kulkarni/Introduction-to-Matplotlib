{
 "cells": [
  {
   "cell_type": "markdown",
   "id": "2241aedf",
   "metadata": {},
   "source": [
    "Distribution of continuous numerical column/data."
   ]
  },
  {
   "cell_type": "code",
   "execution_count": 1,
   "id": "2e50f2ae",
   "metadata": {},
   "outputs": [],
   "source": [
    "import matplotlib.pyplot as plt"
   ]
  },
  {
   "cell_type": "code",
   "execution_count": 2,
   "id": "babadf69",
   "metadata": {},
   "outputs": [
    {
     "data": {
      "text/plain": [
       "(array([1., 1., 1., 0., 0., 0., 0., 0., 0., 1.]),\n",
       " array([10., 17., 24., 31., 38., 45., 52., 59., 66., 73., 80.]),\n",
       " <BarContainer object of 10 artists>)"
      ]
     },
     "execution_count": 2,
     "metadata": {},
     "output_type": "execute_result"
    },
    {
     "data": {
      "image/png": "[encoded data removed]",
      "text/plain": [
       "<Figure size 432x288 with 1 Axes>"
      ]
     },
     "metadata": {
      "needs_background": "light"
     },
     "output_type": "display_data"
    }
   ],
   "source": [
    "x = [10,20,30,80]\n",
    "plt.hist(x)"
   ]
  },
  {
   "cell_type": "code",
   "execution_count": 7,
   "id": "ffc3ed05",
   "metadata": {},
   "outputs": [
    {
     "data": {
      "text/plain": [
       "(array([3., 0., 1., 1.]),\n",
       " array([10. , 27.5, 45. , 62.5, 80. ]),\n",
       " <BarContainer object of 4 artists>)"
      ]
     },
     "execution_count": 7,
     "metadata": {},
     "output_type": "execute_result"
    },
    {
     "data": {
      "image/png": "[encoded data removed]",
      "text/plain": [
       "<Figure size 432x288 with 1 Axes>"
      ]
     },
     "metadata": {
      "needs_background": "light"
     },
     "output_type": "display_data"
    }
   ],
   "source": [
    "x = [10,20,50,20,80]\n",
    "plt.hist(x, color='g', bins=4)"
   ]
  },
  {
   "attachments": {},
   "cell_type": "markdown",
   "id": "199edece",
   "metadata": {},
   "source": [
    "1. Here, 20 has appeared twice. So, the y-axis denotes no. of occurrence of the value i.e., 2.\n",
    "2. Here, 80 has appeared once. So, the y-axis denotes no. of occurrence of the value i.e., 1."
   ]
  },
  {
   "cell_type": "code",
   "execution_count": null,
   "id": "3229dc1f",
   "metadata": {},
   "outputs": [],
   "source": []
  }
 ],
 "metadata": {
  "kernelspec": {
   "display_name": "Python 3",
   "language": "python",
   "name": "python3"
  },
  "language_info": {
   "codemirror_mode": {
    "name": "ipython",
    "version": 3
   },
   "file_extension": ".py",
   "mimetype": "text/x-python",
   "name": "python",
   "nbconvert_exporter": "python",
   "pygments_lexer": "ipython3",
   "version": "3.8.8"
  }
 },
 "nbformat": 4,
 "nbformat_minor": 5
}
